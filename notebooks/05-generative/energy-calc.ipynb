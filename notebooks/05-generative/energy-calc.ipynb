{
 "cells": [
  {
   "cell_type": "markdown",
   "metadata": {},
   "source": [
    "# Compare structure energies\n",
    "\n",
    "This notebook gives an example of how to load a `.cif` file and calculate the relaxed geometry energy. This can be used to compare the distributions of the energies of the materials from `Chemeloen` and `CrystaLLM`"
   ]
  },
  {
   "cell_type": "code",
   "execution_count": null,
   "metadata": {},
   "outputs": [],
   "source": [
    "from janus_core.calculations.geom_opt import GeomOpt\n",
    "import ase"
   ]
  },
  {
   "cell_type": "markdown",
   "metadata": {},
   "source": [
    "## Optimise\n",
    "\n",
    "Read in a generated strucrtue and run a BFGS optimisation"
   ]
  },
  {
   "cell_type": "code",
   "execution_count": null,
   "metadata": {},
   "outputs": [],
   "source": [
    "device='cuda'\n",
    "\n",
    "mol = ase.io.read('chemeleon/generated_structure_0.cif')\n",
    "\n",
    "# periodic\n",
    "opt = GeomOpt(\n",
    "    struct=mol,\n",
    "    arch=\"mace_mp\",\n",
    "    device=device,\n",
    "    model_path=\"medium-omat-0\",\n",
    "    calc_kwargs={\"default_dtype\": \"float64\"},\n",
    "    fmax=0.001,\n",
    "    filter_kwargs={\"hydrostatic_strain\": True},\n",
    ")\n",
    "\n",
    "opt.run()\n",
    "\n",
    "print(opt.struct.get_potential_energy())"
   ]
  }
 ],
 "metadata": {
  "language_info": {
   "name": "python"
  }
 },
 "nbformat": 4,
 "nbformat_minor": 2
}
