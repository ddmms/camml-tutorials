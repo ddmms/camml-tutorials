{
 "cells": [
  {
   "cell_type": "markdown",
   "metadata": {
    "cell_id": "a40121600b3c467da428477bc8bf55e0",
    "deepnote_cell_type": "markdown"
   },
   "source": [
    "# Intro to MACE"
   ]
  },
  {
   "cell_type": "markdown",
   "metadata": {
    "cell_id": "95057ab91ce54145b569a1b35cc81742",
    "deepnote_cell_type": "markdown",
    "tags": []
   },
   "source": [
    "In this tutorial, you will learn how to fit a Message Passing Neural Network called `MACE`, which is a highly accurate and efficient MLIP. If you would like to understand this method in more detail, you can find the [original method paper](https://proceedings.neurips.cc/paper_files/paper/2022/file/4a36c3c51af11ed9f34615b81edb5bbc-Paper-Conference.pdf). MACE was developed by unifying the Atomic Cluster Expansion (ACE) approach with the Neural Equivariant Interatomic Potentials (NequIP). The mathematical formalism which unifies these methods is explained in the [accompaning paper](https://doi.org/10.48550/arXiv.2205.06643). Another [useful reference](https://doi.org/10.48550/arXiv.2305.14247) showcases the methods performance on published benchmark datasets. The [code implementation](https://github.com/ACEsuit/mace) is publically available and [here](https://mace-docs.readthedocs.io/en/latest/) you can find the accompaning documentation.\n",
    "\n",
    "We will start by creating a simple potential on the same reference data from yesterday and reproduce the tests we used for GAP. We will then go beyond testing on fixed data and explore the stability of the potential in Molecular Dynamics (MD) simulations. We will test ideas of`iterative training` to improve the potential and `active learning` to automate the training process.\n",
    "\n",
    "This notebook copy is \"read only\", so you will need to duplicate the project in your own workspace in order to modify and run the notebook. Click on the settings button and duplicate. Make sure your \"Environment\" is set to \"Python 3.10\". The \"Init\" notebook will run automatically when you start and it will install all the prerequisite libraries for this tutorial (in about 2 mins).\n",
    "\n",
    "If the notebook stops responding (e.g. figures don't appear, the MACE fitting process stops or runs out of memmory), just restart the virtual machine in the \"Environment\" tab from the left menu."
   ]
  },
  {
   "cell_type": "markdown",
   "metadata": {},
   "source": [
    "## Understanding the data"
   ]
  },
  {
   "cell_type": "markdown",
   "metadata": {},
   "source": [
    "Understanding the data is a crucial part of fitting an MLIP. Most initial models will fail and overfit - we need to understand the data to be able to address these problems. In this case, the data comprises a mixture of 6 different types of molecules: cyclic carbonates (Vinylene carbonate VC, Ethylene carbonate EC, Propylene carbonate PC) and linear carbonates (Dimethyl carbonate DMC, Ethyl Methyl Carbonate EMC, Diethyl carbonate DEC). Mixtures of these molecules in various formulations are used for the electrolyte in Li-ion batteries. "
   ]
  },
  {
   "cell_type": "code",
   "execution_count": null,
   "metadata": {},
   "outputs": [],
   "source": [
    "from rdkit import Chem\n",
    "from rdkit.Chem import Draw\n",
    "\n",
    "# SMILES strings for each molecule\n",
    "sm_dict = {\n",
    "    'VC': 'c1coc(=O)o1',\n",
    "    'EC': 'C1COC(=O)O1',\n",
    "    'PC': 'CC1COC(=O)O1',\n",
    "    'DMC': 'COC(=O)OC',\n",
    "    'EMC': 'CCOC(=O)OC',\n",
    "    'DEC': 'CCOC(=O)OCC'\n",
    "}\n",
    "\n",
    "Draw.MolsToGridImage([Chem.MolFromSmiles(sm_dict[mol]) for mol in sm_dict], legends=list(sm_dict.keys()))"
   ]
  },
  {
   "cell_type": "markdown",
   "metadata": {},
   "source": [
    "We start by loading the raw configurations with no `labels` (energy, forces). The atomic `configurations`are stored in the [extxyz](https://wiki.fysik.dtu.dk/ase/ase/io/formatoptions.html#extxyz) format and can be accessed using [ASE](https://wiki.fysik.dtu.dk/ase/index.html) as shown below:"
   ]
  },
  {
   "cell_type": "code",
   "execution_count": null,
   "metadata": {},
   "outputs": [],
   "source": [
    "from ase.io import read, write\n",
    "import numpy as np\n",
    "\n",
    "db = read('data/solvent_raw.xyz', ':') #read in list of configs\n",
    "\n",
    "print(\"Number of configs in database: \", len(db))\n",
    "print(\"Number of atoms in each config: \", np.array([len(at) for at in db]))\n",
    "print(\"Number of atoms in the smallest config: \", np.min([len(at) for at in db])) #test if database contains isolated atoms\n",
    "print(\"Information stored in typical config: \", db[100].info, db[100].arrays)"
   ]
  },
  {
   "cell_type": "markdown",
   "metadata": {},
   "source": [
    "At this point each configuration is a collection of atoms: Z number and positions, with no additional information. Let us identify the molecules and label molecular clusters. This will make it easier to inspect the data set. The code takes about `4 min` to run, you can avoid this by commenting out the code block which identifies molecules and simply loading the processed data."
   ]
  },
  {
   "cell_type": "code",
   "execution_count": null,
   "metadata": {},
   "outputs": [],
   "source": [
    "from aseMolec import anaAtoms as aa\n",
    "\n",
    "# aa.wrap_molecs(db, prog=True) #identify molecules and label molecular clusters\n",
    "# write('data/solvent_molecs.xyz', db)\n",
    "\n",
    "db = read('data/solvent_molecs.xyz', ':')\n",
    "print(\"Information stored in typical config: \", db[100].info, db[100].arrays) #check the information"
   ]
  },
  {
   "cell_type": "markdown",
   "metadata": {},
   "source": [
    "This procedure created new information for each atomic config: number of molecules `Nmols`, molecular composition `Comp` (e.g `DEC(1):EC(1)` means the config comprises a dimer with 1 DEC molecule and 1 EC molecule) and molecular ID `molID`.\n",
    "\n",
    "There are 5000 configs in total, let us inspect what is the distribution of configs by number of molecules present:"
   ]
  },
  {
   "cell_type": "code",
   "execution_count": null,
   "metadata": {},
   "outputs": [],
   "source": [
    "from matplotlib import pyplot as plt\n",
    "\n",
    "Nmols = np.array([at.info['Nmols'] for at in db]) #collect Nmols information across all data\n",
    "plt.hist(Nmols, align='left', bins=[1,2,3,4,5,6,7], rwidth=0.8);\n",
    "plt.xlabel('# Molecs');\n",
    "plt.ylabel('# Configs comprising that # Molecs');"
   ]
  },
  {
   "cell_type": "markdown",
   "metadata": {},
   "source": [
    "There are just under 1000 configs of single molecules and more than 2000 dimers. The largest configs contain clusters of six molecules.\n",
    "\n",
    "We can check the distribution of molecular compositions for each cluster size:"
   ]
  },
  {
   "cell_type": "code",
   "execution_count": null,
   "metadata": {},
   "outputs": [],
   "source": [
    "from aseMolec import extAtoms as ea\n",
    "from collections import Counter\n",
    "\n",
    "comp_dict = {} #create a dictionary of compositions for each cluster size\n",
    "for Nmol in range(1,7):\n",
    "    comp_dict[Nmol] = dict(Counter([at.info['Comp'] for at in ea.sel_by_info_val(db, 'Nmols', Nmol)]))\n",
    "\n",
    "Nmol = 2 #show distribution of compositions for cluster size 6\n",
    "\n",
    "plt.pie(comp_dict[Nmol].values(), labels=comp_dict[Nmol].keys(),\n",
    "        explode=10/(25+np.array(list(comp_dict[Nmol].values()))), rotatelabels =True);\n"
   ]
  },
  {
   "cell_type": "markdown",
   "metadata": {},
   "source": [
    "The training set is quite diverse and it contains a good mix of compositions. Check the distribution for other cluster sizes: `Nmol = 1, 2, 3, 4, 5`. Find out if all isolated molecules are present and well sampled. We have six molecules, so there should be 6x6 dimers present, are all dimers sampled?"
   ]
  },
  {
   "cell_type": "markdown",
   "metadata": {},
   "source": [
    "## Labeling Data with XTB Values"
   ]
  },
  {
   "cell_type": "markdown",
   "metadata": {},
   "source": [
    "We convinced ourselves the training set is quite diverse, it samples many compositions and molecular cluster sizes. It is time to prepare the reference data (energies, forces) to learn from. We will do this using the Semiempirical Tight Binding level of theory with [XTB](https://xtb-docs.readthedocs.io/en/latest/contents.html). This may be less accurate than other methods specialized for these systems, but it is fast and it will later allow us to test MLIP errors on-the-fly.\n",
    "\n",
    "Notice the data set contains isolated molecules but no isolated atoms. GAP (and MLIPs in general) fits to atomization energies (eV), so we need to provide the energy of each atom species in vacuum for reference. Let us add three frames containing Hydrogen H, Carbon C and Oxygen O."
   ]
  },
  {
   "cell_type": "code",
   "execution_count": null,
   "metadata": {},
   "outputs": [],
   "source": [
    "from ase import Atoms\n",
    "\n",
    "db = read('data/solvent_molecs.xyz', ':')\n",
    "db = [Atoms('H'), Atoms('C'), Atoms('O')]+db #add isolated atoms to the database\n",
    "\n",
    "for at in db[:3]:\n",
    "    at.info['config_type'] = 'IsolatedAtom' #useful for tomorrow, MACE requires this tag to find isolated atoms\n",
    "    at.cell = [20,20,20] #the data is non periodic, but GAP requires a dummy cell to find the isolated atoms\n",
    "\n",
    "print(\"Number of configs in database: \", len(db))"
   ]
  },
  {
   "cell_type": "markdown",
   "metadata": {},
   "source": [
    "Now we compute the energy and forces with XTB. This computation will take about `25 mins` for the 5003 configs. Avoid this by simply loading the already computed data. You can try yourself for a few configs and check that you are getting the same values as the preprocessed data. What is the inherent XTB precision? By how much do values actually differ?"
   ]
  },
  {
   "cell_type": "code",
   "execution_count": null,
   "metadata": {},
   "outputs": [],
   "source": [
    "from xtb.ase.calculator import XTB\n",
    "xtb_calc = XTB(method=\"GFN2-xTB\")\n",
    "\n",
    "# for i, at in enumerate(db):\n",
    "#     print(i)\n",
    "#     at.set_calculator(xtb_calc)\n",
    "#     at.info['energy'] = at.get_potential_energy()\n",
    "#     at.arrays['forces'] = at.get_forces()\n",
    "#     del at.calc\n",
    "# write('data/solvent_xtb.xyz', db)\n",
    "\n",
    "db = read('data/solvent_xtb.xyz', ':')\n",
    "print(\"Information stored in typical config: \", db[100].info, db[100].arrays) #check the information"
   ]
  },
  {
   "cell_type": "markdown",
   "metadata": {},
   "source": [
    "The data now contains one energy value for each config `energy` and the `force` on each atom.\n",
    "We also have isolated atom energies so we can check atomization energies per atom. This is not a prerequisite for GAP fitting, since GAP will do this internally. It is simply a sanity check:"
   ]
  },
  {
   "cell_type": "code",
   "execution_count": null,
   "metadata": {},
   "outputs": [],
   "source": [
    "ea.get_prop(db, 'bind', peratom=True) #computes atomization energy devided by number of atoms:"
   ]
  },
  {
   "cell_type": "markdown",
   "metadata": {},
   "source": [
    "Good! We get about -6 $\\rm eV/atom$ which is roughly the expected covalent energy for these organic molecules. Remember most of the energy is stored in the covalent bonds."
   ]
  },
  {
   "cell_type": "markdown",
   "metadata": {
    "cell_id": "6e1b8f3b26c64c69982a15b403550fdb",
    "deepnote_cell_type": "markdown"
   },
   "source": [
    "## Fitting a Simple MACE Model"
   ]
  },
  {
   "cell_type": "markdown",
   "metadata": {
    "cell_id": "8f01c06f0fb34f24b2e83130b7e5a4b6",
    "deepnote_cell_type": "markdown"
   },
   "source": [
    "We will start by splitting the data into train and test sets the same as we did for GAP. In practice MACE extrapolates better than GAP, so we can get away with less data."
   ]
  },
  {
   "cell_type": "code",
   "execution_count": null,
   "metadata": {
    "cell_id": "ccb3270bdaab4f2490eb8d7d417a260c",
    "deepnote_cell_type": "code",
    "deepnote_to_be_reexecuted": false,
    "execution_millis": 4511,
    "execution_start": 1690385915880,
    "source_hash": null
   },
   "outputs": [],
   "source": [
    "from ase.io import read, write\n",
    "\n",
    "db = read('data/solvent_xtb.xyz', ':')\n",
    "\n",
    "#non-periodic data is handled correctly by MACE, so we do not need to change anything\n",
    "write('data/solvent_mace_train.xyz', db[:203])\n",
    "write('data/solvent_mace_test.xyz', db[203:403])"
   ]
  },
  {
   "cell_type": "markdown",
   "metadata": {
    "cell_id": "efb4e7559b24449d8ec15b35cf8ad561",
    "deepnote_cell_type": "markdown"
   },
   "source": [
    "### Training files\n",
    "\n",
    "To train a MACE model, you will use the `run_train.py`command which takes the following arguments:\n",
    "\n",
    "First specify the name of your model and final log file using the `--name` flag.\n",
    "\n",
    "You can specify the training file with the `--train_file` flag. The validation set can either be specified as a separate file using the `--valid_file` keyword, or it can be specified as a fraction of the training set using the `--valid_fraction` keyword. The validation set is not used for optimizing the model but to estimate the model accuracy during training.\n",
    "\n",
    "It is also possible to provide a test set using the `--test_file` keyword. This set is entirely independent and only gets evaluated at the end of the training process.\n",
    "\n",
    "__________________\n",
    "\n",
    "### Reference energies\n",
    "\n",
    "It is usually preferred to add the isolated atoms to the training set, rather than reading in their energies through the command line. MACE will automatically identify these atoms in the training set if they are labels correctly with `config_type=IsolatedAtom` in their `info` fields (we have done this yesterday when preparing the data). If you prefer not to use or do not know the energies of the isolated atoms, you can use the option `--E0s=\"average\"` which estimates the atomic energies by least squares regression.\n",
    "\n",
    "__________________\n",
    "\n",
    "\n",
    "### Model\n",
    "\n",
    "#### The Messages\n",
    "\n",
    "To control the model size, you need to change `--hidden_irreps`. For most applications, the recommended default model size is `--hidden_irreps='256x0e'` (meaning 256 invariant messages) or `--hidden_irreps='128x0e + 128x1o'` (meaning 128 equivariant messages). If the model is not accurate enough, you can include higher order features, e.g., `128x0e + 128x1o + 128x2e`, or increase the number of channels to `256`. The number of message passing layers can be controled via the `--num_ineractions` parameter. **Increasing the model size and the number of layers will lead to more accurate but slower models.**\n",
    "\n",
    "#### Correlation order\n",
    "\n",
    "MACE uses a body order expansion on the site energy:\n",
    "\n",
    "$$\n",
    "E_{i} = E^{(0)}_{i} + \\sum_{j} E_{ij}^{(1)} + \\sum_{jk} E_{ijk}^{(2)} + ...\n",
    "$$\n",
    "\n",
    "The correlation order corresponds to the order that MACE induces at each layer. Choosing `--correlation=3` will create basis function of up to 4-body (ijke) indices, for each layer. Because of the multiple layers of MACE, the total correlation order is much higher. A two layers mace, with `--correlation=3` has a total body order of 13.\n",
    "\n",
    "#### Angular resolution\n",
    "\n",
    "The angular resolution describes how precise the model can identify angles. This is controled by `l_max`. The higher this integer, more precise is the angular resolution. Larger value will result in more accurate but slower models. The default is `l_max=3`.\n",
    "\n",
    "#### Cutoff radius\n",
    "\n",
    "The cutoff radius controls the locality of the model. A `--r_max=3.0` means that the model assumes atoms seperated by a distance of more than 3.0 A do not directly `communicate`. Because the model has two layers, atoms further than 3.0 A can still `communicate` by proxy. The actual receptive field of the model is the number of layers times the cutoff distance.\n",
    "\n",
    "__________________\n",
    "\n",
    "\n",
    "### Data keys\n",
    "\n",
    "When parsing the data files the energies are read using the keyword `energy` and the forces using the keyword `forces`. To change that, specify the `--energy_key` and `--forces_key`.\n",
    "\n",
    "__________________\n",
    "\n",
    "\n",
    "### Checkpoints\n",
    "\n",
    "Fitting this model will take about `12 mins`. You can continue the fitting from the last checkpoint by using the flag `--restart_latest`. The checkpoint saves the best model that currently has been trained. All checkpoints are saved in ./checkpoints folder. We can also continue from a restart when extending the dataset.\n",
    "\n",
    "__________________\n",
    "\n",
    "\n",
    "### Training parameters\n",
    "\n",
    "These parameters are related to the training protocols: `--batch_size` represents the number of configs used to compute the gradients for each full update of all network parameters (stocastic gradient descent). The first `epoch` is completed when all the training data has been employed once in updating the weights and `--epochs` represents the number of such epochs. During training you will notice energy errors are at first much higher than force errors, MACE implements a special protocol that increases the weight on the energy in the loss function (`--swa_energy_weight`) once the forces are sufficiently accurate. The starting epoch for this special protocol can be controled by chaning `--start_swa`.\n",
    "\n",
    "### Validation parameters\n",
    "\n",
    "The validation set controls the stopping of the training. At each `--eval_interval` the model is tested on the validation set. We also evaluate the set by batch size, controlled by `--valid_batch_size`. If the accuracy of the model stops improving on the validation set for `--patience` number of epochs. This is called **early stopping**.\n"
   ]
  },
  {
   "cell_type": "code",
   "execution_count": null,
   "metadata": {
    "cell_id": "b7d69e0612d146dd8c48b408ad4f59a5",
    "deepnote_cell_type": "code",
    "deepnote_to_be_reexecuted": false,
    "execution_millis": 956487,
    "execution_start": 1690385920385,
    "source_hash": null
   },
   "outputs": [],
   "source": [
    "!python3 ./mace/scripts/run_train.py \\\n",
    "    --name=\"model\" \\\n",
    "    --train_file=\"data/solvent_mace_train.xyz\" \\\n",
    "    --valid_fraction=0.05 \\\n",
    "    --test_file=\"maceTests/solvent_test.xyz\" \\\n",
    "    --E0s=\"isolated\" \\\n",
    "    --energy_key=\"energy\" \\\n",
    "    --forces_key=\"forces\" \\\n",
    "    --model=\"MACE\" \\\n",
    "    --num_interactions=2 \\\n",
    "    --max_ell=2 \\\n",
    "    --hidden_irreps=\"16x0e\" \\\n",
    "    --num_cutoff_basis=5 \\\n",
    "    --correlation=2 \\\n",
    "    --r_max=3.0 \\\n",
    "    --batch_size=5 \\\n",
    "    --valid_batch_size=5 \\\n",
    "    --eval_interval=1 \\\n",
    "    --max_num_epochs=50 \\\n",
    "    --start_swa=15 \\\n",
    "    --swa_energy_weight=1000 \\\n",
    "    --ema \\\n",
    "    --ema_decay=0.99 \\\n",
    "    --amsgrad \\\n",
    "    --error_table=\"PerAtomRMSE\" \\\n",
    "    --default_dtype=\"float32\" \\\n",
    "    --swa \\\n",
    "    --device=cuda \\\n",
    "    --seed=1234"
   ]
  },
  {
   "cell_type": "markdown",
   "metadata": {
    "cell_id": "01d2525548a64079b8c6247362360f3a",
    "deepnote_cell_type": "markdown"
   },
   "source": [
    "## Testing MACE vs XTB"
   ]
  },
  {
   "cell_type": "markdown",
   "metadata": {
    "cell_id": "9ecbfaac536f4a2bb121e337ca964f99",
    "deepnote_cell_type": "markdown"
   },
   "source": [
    "We will now evaluate the trained model on the test datasets. For this, we can use the eval_configs.py code. One needs to specify the file to evaluate in `--configs`. The path to the model is in `--model`. The `--output` specifies to path of the output file where the predicted energies and forces of MACE are stored. The `--default_dtype=\"float32\"`needs to match the one you used for training."
   ]
  },
  {
   "cell_type": "markdown",
   "metadata": {
    "cell_id": "9863af93365b4659a0fec0989ee10dff",
    "deepnote_cell_type": "markdown"
   },
   "source": [
    "We can compare MACE vs XTB accuracy on the train and test sets."
   ]
  },
  {
   "cell_type": "code",
   "execution_count": null,
   "metadata": {
    "cell_id": "79b6d4c1b7da48a0b3cfdb0fc1badd17",
    "deepnote_cell_type": "code",
    "deepnote_to_be_reexecuted": false,
    "execution_millis": 4173,
    "execution_start": 1690386907048,
    "source_hash": null
   },
   "outputs": [],
   "source": [
    "from aseMolec import pltProps as pp\n",
    "from ase.io import read\n",
    "import matplotlib.pyplot as plt\n",
    "from aseMolec import extAtoms as ea \n",
    "import numpy as np\n",
    "\n",
    "def plot_RMSEs(db1, db2, labs):\n",
    "    plt.figure(figsize=(8,4), dpi=100)\n",
    "    plt.subplot(1,2,1)\n",
    "    pp.plot_prop(ea.get_prop(db1, 'info', 'energy', True).flatten(), \\\n",
    "                 ea.get_prop(db2, 'info', 'energy', True).flatten(), \\\n",
    "                 title=r'Energy $(\\rm eV/atom)$ ', labs=labs, rel=True)\n",
    "    plt.subplot(1,2,2)\n",
    "    pp.plot_prop(np.concatenate(ea.get_prop(db1, 'arrays', 'forces')).flatten(), \\\n",
    "                 np.concatenate(ea.get_prop(db2, 'arrays', 'forces')).flatten(), \\\n",
    "                 title=r'Forces $\\rm (eV/\\AA)$ ', labs=labs, rel=True)\n",
    "    plt.tight_layout()\n",
    "    return\n",
    "\n",
    "plot_RMSEs(read('data/solvent_mace_test.xyz', ':'), read('maceTests/solvent_test.xyz', ':'), labs=['XTB', 'MACE'])"
   ]
  },
  {
   "cell_type": "markdown",
   "metadata": {
    "cell_id": "de7f02db063640f1ac3e94c90c8772c2",
    "deepnote_cell_type": "markdown"
   },
   "source": [
    "We can also check the Intra/Inter splits:"
   ]
  },
  {
   "cell_type": "code",
   "execution_count": null,
   "metadata": {
    "cell_id": "58506e689b5c487f91bfb60c2be0bd8f",
    "deepnote_cell_type": "code",
    "deepnote_to_be_reexecuted": false,
    "execution_millis": 6188,
    "execution_start": 1690386911122,
    "source_hash": null
   },
   "outputs": [],
   "source": [
    "from aseMolec import pltProps as pp\n",
    "from aseMolec import anaAtoms as aa\n",
    "\n",
    "db1 = read('data/solvent_mace_test.xyz', ':')\n",
    "db2 = read('maceTests/solvent_test.xyz', ':')\n",
    "\n",
    "aa.extract_molecs(db1, intra_inter=True)\n",
    "aa.extract_molecs(db2, intra_inter=True)\n",
    "\n",
    "pp.plot_trans_rot_vib(db1, db2, labs=['XTB', 'MACE'])\n",
    "\n",
    "#db1 = read('data/solvent_test.xyz', ':')\n",
    "#aa.extract_molecs(db1, intra_inter=True)\n",
    "#ea.check_keys(db1[:1])\n",
    "#db2 = read('gapTests/solvent_test.xyz', ':')\n",
    "#aa.extract_molecs(db2, intra_inter=True)\n",
    "\n",
    "#pp.plot_trans_rot_vib(db1, db2, labs=['XTB', 'GAP'])"
   ]
  },
  {
   "cell_type": "markdown",
   "metadata": {
    "cell_id": "e69c748a1ff34efb9d513bbfd0716c36",
    "deepnote_cell_type": "markdown"
   },
   "source": [
    "Again, MACE performs better. However, iner-molecular are still difficult to capture - as we expect."
   ]
  },
  {
   "cell_type": "code",
   "execution_count": null,
   "metadata": {
    "cell_id": "d5d94aea1dff40c191fd955579d49bfe",
    "deepnote_cell_type": "code",
    "deepnote_to_be_reexecuted": false,
    "execution_millis": 1052,
    "execution_start": 1690386917124,
    "source_hash": null
   },
   "outputs": [],
   "source": [
    "import numpy as np\n",
    "from matplotlib import pyplot as plt\n",
    "from aseMolec import extAtoms as ea\n",
    "\n",
    "def plot_vscan(vsname='volumeScan', vspaths=['data', 'maceTests']):\n",
    "    for i, vspath in enumerate(vspaths):\n",
    "        db = read(vspath+'/'+vsname+'.xyz', ':')\n",
    "        config = np.arange(len(db))\n",
    "        energy = ea.get_prop(db, 'info', 'energy', peratom=True)\n",
    "        plt.plot(config, energy, '.-', label=vspath, alpha=0.5)\n",
    "    plt.xlabel(r'Volume Scan Config')\n",
    "    plt.ylabel(r'Energy ($\\rm eV/atom$)')\n",
    "    plt.legend()\n",
    "    plt.title(vsname)\n",
    "    plt.tight_layout()\n",
    "\n",
    "plot_vscan()"
   ]
  },
  {
   "cell_type": "markdown",
   "metadata": {
    "cell_id": "696e83f03a294133a55d9f914226e333",
    "deepnote_cell_type": "markdown"
   },
   "source": [
    "The `volume scan` is still not perfect, but MACE is smoother! More data will be needed to get this right. "
   ]
  },
  {
   "cell_type": "markdown",
   "metadata": {
    "cell_id": "e7212170b1574fc3995aa2d51560a425",
    "deepnote_cell_type": "markdown"
   },
   "source": [
    "## Molecular Dynamics with MACE"
   ]
  },
  {
   "cell_type": "markdown",
   "metadata": {
    "cell_id": "f8db4a6a266c490681977db3f868e85e",
    "deepnote_cell_type": "markdown"
   },
   "source": [
    "MD is the ultimate test, let's check MACE stability. We will start by implementing a simple function to run Langevin dynamics. We will initialize the temperature at 300 K and remove all translations and rotations."
   ]
  },
  {
   "cell_type": "code",
   "execution_count": null,
   "metadata": {
    "cell_id": "0ee5f6a5559d43d5b5fa0bf9101b9170",
    "deepnote_cell_type": "code",
    "deepnote_to_be_reexecuted": false,
    "execution_millis": 130,
    "execution_start": 1690386918077,
    "source_hash": null
   },
   "outputs": [],
   "source": [
    "from ase.io import read, write\n",
    "from ase import units\n",
    "from ase.md.langevin import Langevin\n",
    "from ase.md.velocitydistribution import Stationary, ZeroRotation, MaxwellBoltzmannDistribution\n",
    "\n",
    "import random\n",
    "import os\n",
    "import time\n",
    "import numpy as np\n",
    "import pylab as pl\n",
    "from IPython import display\n",
    "\n",
    "def simpleMD(init_conf, temp, calc, fname, s, T):\n",
    "    init_conf.set_calculator(calc)\n",
    "\n",
    "    #initialize the temperature\n",
    "    random.seed(701) #just making sure the MD failure is reproducible\n",
    "    MaxwellBoltzmannDistribution(init_conf, temperature_K=300) #initialize temperature at 300\n",
    "    Stationary(init_conf)\n",
    "    ZeroRotation(init_conf)\n",
    "\n",
    "    dyn = Langevin(init_conf, 1.0*units.fs, temperature_K=temp, friction=0.1) #drive system to desired temperature\n",
    "\n",
    "    %matplotlib inline\n",
    "\n",
    "    time_fs = []\n",
    "    temperature = []\n",
    "    energies = []\n",
    "\n",
    "    #remove previously stored trajectory with the same name\n",
    "    os.system('rm -rfv '+fname)\n",
    "\n",
    "    fig, ax = pl.subplots(2, 1, figsize=(6,6), sharex='all', gridspec_kw={'hspace': 0, 'wspace': 0})\n",
    "\n",
    "    def write_frame():\n",
    "            dyn.atoms.write(fname, append=True)\n",
    "            time_fs.append(dyn.get_time()/units.fs)\n",
    "            temperature.append(dyn.atoms.get_temperature())\n",
    "            energies.append(dyn.atoms.get_potential_energy()/len(dyn.atoms))\n",
    "\n",
    "            ax[0].plot(np.array(time_fs), np.array(energies), color=\"b\")\n",
    "            ax[0].set_ylabel('E (eV/atom)')\n",
    "\n",
    "            # plot the temperature of the system as subplots\n",
    "            ax[1].plot(np.array(time_fs), temperature, color=\"r\")\n",
    "            ax[1].set_ylabel('T (K)')\n",
    "            ax[1].set_xlabel('Time (fs)')\n",
    "\n",
    "            display.clear_output(wait=True)\n",
    "            display.display(pl.gcf())\n",
    "            time.sleep(0.01)\n",
    "\n",
    "    dyn.attach(write_frame, interval=s)\n",
    "    t0 = time.time()\n",
    "    dyn.run(T)\n",
    "    t1 = time.time()\n",
    "    print(\"MD finished in {0:.2f} minutes!\".format((t1-t0)/60))"
   ]
  },
  {
   "cell_type": "markdown",
   "metadata": {
    "cell_id": "7068717a1421483da4fea5e05c53c495",
    "deepnote_cell_type": "markdown"
   },
   "source": [
    "### Compare MACE and XTB Dynamics"
   ]
  },
  {
   "cell_type": "markdown",
   "metadata": {
    "cell_id": "e73034e343594dbfb0991290c0668b3d",
    "deepnote_cell_type": "markdown"
   },
   "source": [
    "Now we can run MD with MACE. Let's try 2 picoseoncds starting from a single molecule config:"
   ]
  },
  {
   "cell_type": "code",
   "execution_count": null,
   "metadata": {
    "cell_id": "d8629178db814314a7aabb2a0bdd2487",
    "deepnote_cell_type": "code",
    "deepnote_to_be_reexecuted": false,
    "execution_millis": 516302,
    "execution_start": 1690386918208,
    "source_hash": null
   },
   "outputs": [],
   "source": [
    " #let us start with a single molecule\n",
    "init_conf = ea.sel_by_info_val(read('data/solvent_molecs.xyz',':'), 'Nmols', 1)[0].copy()\n",
    "\n",
    "#we can use MACE as a calculator in ASE!\n",
    "from mace.calculators import MACECalculator\n",
    "mace_calc = MACECalculator(model_paths=['model_swa.model'], device='cuda', default_dtype=\"float32\")\n",
    "\n",
    "\n",
    "simpleMD(init_conf, temp=1200, calc=mace_calc, fname='mace_md.xyz', s=10, T=2000)\n"
   ]
  },
  {
   "cell_type": "markdown",
   "metadata": {
    "cell_id": "0ddf1be382f64c4b98e105ab40c77054",
    "deepnote_cell_type": "markdown"
   },
   "source": [
    "For reference, we can also run XTB dynamics from the same starting configuration."
   ]
  },
  {
   "cell_type": "code",
   "execution_count": null,
   "metadata": {
    "allow_embed": false,
    "cell_id": "e3e0c02b2c9942ae88c8c228dbca471f",
    "deepnote_cell_type": "code",
    "deepnote_to_be_reexecuted": false,
    "execution_millis": 1369784,
    "execution_start": 1690388047354,
    "source_hash": null
   },
   "outputs": [],
   "source": [
    "# reinitialize the original config\n",
    "init_conf = ea.sel_by_info_val(read('data/solvent_molecs.xyz',':'), 'Nmols', 1)[0].copy()\n",
    "\n",
    "from xtb.ase.calculator import XTB\n",
    "xtb_calc = XTB(method=\"GFN2-xTB\")\n",
    "\n",
    "simpleMD(init_conf, temp=1200, calc=xtb_calc, fname='xtb_md.xyz', s=10, T=2000)"
   ]
  },
  {
   "cell_type": "markdown",
   "metadata": {
    "cell_id": "b5e16ad359e740ff82138976294bc9dc",
    "deepnote_cell_type": "markdown"
   },
   "source": [
    "Great the dynamics are pretty stable! Download the trajectory files `.xyz` and visualize them with your favourite software.\n",
    "\n",
    "Are the different dynamics sampling the correct distributions? Let us check the radial distribution functions (RDF). The [aseMolec](https://github.com/imagdau/aseMolec) package provides functionality to do that:"
   ]
  },
  {
   "cell_type": "code",
   "execution_count": null,
   "metadata": {
    "cell_id": "860874d8f7b64d08851ff489a42228eb",
    "deepnote_cell_type": "code",
    "deepnote_to_be_reexecuted": false,
    "execution_millis": 23493,
    "execution_start": 1690389417019,
    "source_hash": null
   },
   "outputs": [],
   "source": [
    "from aseMolec import anaAtoms as aa\n",
    "\n",
    "tag = 'HO_intra' #choose one of 'HH_intra', 'HC_intra', 'HO_intra', 'CC_intra', 'CO_intra', 'OO_intra'\n",
    "\n",
    "for f in ['xtb_md', 'mace_md']:\n",
    "    traj = read(f+'.xyz', ':')\n",
    "    for at in traj:\n",
    "        at.pbc = True\n",
    "        at.cell = [100,100,100]\n",
    "    rdf = aa.compute_rdfs_traj_avg(traj, rmax=5, nbins=50) #aseMolec provides functionality to compute RDFs\n",
    "    plt.plot(rdf[1], rdf[0][tag], label=f, alpha=0.7, linewidth=3)\n",
    "\n",
    "plt.legend();\n",
    "plt.yticks([]);\n",
    "plt.xlabel(r'R ($\\rm \\AA$)');\n",
    "plt.ylabel('RDF '+tag);"
   ]
  },
  {
   "cell_type": "markdown",
   "metadata": {
    "cell_id": "04cb8ae4ae644063bbf36dbc565e07b9",
    "deepnote_cell_type": "markdown"
   },
   "source": [
    "Try it yourself! Look at other RDF types, how well are they reproduced? The MACE model performes better than GAP.\n",
    "\n",
    "The trajectories here are pretty stable, but this is a pretty simple problem. We chose a single molecule at relatively small temperatures (for a molecule) and only ran for 2 picoseconds. In practice, given enough time and high enough temperature the initial models will fail.\n",
    "\n",
    "Experiment with the starting configs, temperatures, simulation length, see if you can find problems with the potentials!"
   ]
  },
  {
   "cell_type": "markdown",
   "metadata": {
    "cell_id": "6334ee06bcc24a8db4c5a87dfc2d7985",
    "deepnote_cell_type": "markdown"
   },
   "source": [
    "### The Molecular Liquid Condensed Phase"
   ]
  },
  {
   "cell_type": "markdown",
   "metadata": {
    "cell_id": "bc011009c8a845a7b48ad6f6c4570c39",
    "deepnote_cell_type": "markdown"
   },
   "source": [
    "The MLIP was trained on clusters, can we simulate the liquid molecular environment?"
   ]
  },
  {
   "cell_type": "code",
   "execution_count": null,
   "metadata": {
    "cell_id": "db474b39ce1c4ba1918219a52c749dd1",
    "deepnote_cell_type": "code",
    "deepnote_to_be_reexecuted": false,
    "execution_millis": 495641,
    "execution_start": 1690389440265,
    "source_hash": null
   },
   "outputs": [],
   "source": [
    "init_conf = read('data/ECEMC.xyz','4') #read a liquid config with periodic boundary conditions\n",
    "init_conf.center()\n",
    "\n",
    "simpleMD(init_conf, temp=500, calc=mace_calc, fname='liquid_md.xyz', s=10, T=2000)"
   ]
  },
  {
   "cell_type": "markdown",
   "metadata": {
    "cell_id": "bfa824eb023047b0ab1ce1d1754e1430",
    "deepnote_cell_type": "markdown"
   },
   "source": [
    "This XTB calculator is non-periodic, so this dynamics would not be possible without an MLIP! Check for yourself, by replacing the calculator with xtb. The system is much larger than the example before (12 molecules vs just one), check how GAP scales with size by replacing the calculator with gap.\n",
    "\n",
    "\n",
    "Transferability from clusters to the condensed phase environment is still an open research question. If this works, it implies that we might be able to learn on highly accuracte Quantum Chemistry methods on molecular clusters and make predictions (density, diffusivity) for the condensed phase! This is new Science!"
   ]
  },
  {
   "cell_type": "markdown",
   "metadata": {
    "cell_id": "a00c92d61afc4adcb493f1cc7b2ee3a6",
    "deepnote_cell_type": "markdown"
   },
   "source": [
    "## Active Learning with MACE\n",
    "\n",
    "This is a short tutorial on how to use active learning with MACE.\n",
    "\n",
    "Active learning consists is an iterative fitting process aiming at providing the model with the most optimal training data for increasing its performance. For any active learning sheme, two things are essential:\n",
    "\n",
    "- A efficient data generation source, in our case molecular dynamics.\n",
    "- A score function rating the utility of a given data to be trained\n",
    "\n",
    "The score function in the case of interatomic potentials is usually correlated to the uncertainty of the prediction of the model for a given configuration. For neural networks potentials like MACE, a straightforward measure of uncertainty is the variance of the output over an ensemble of models.\n"
   ]
  },
  {
   "cell_type": "markdown",
   "metadata": {
    "cell_id": "588eeeda5dc94c76841aba2af1c4f90a",
    "deepnote_cell_type": "markdown"
   },
   "source": [
    "To obtain a comittee from MACE, we need to train a committee of models and add some randomness to the optimization process. We can achieve this by changing the `--seed`.\n",
    "\n",
    "Let us train three small MACE models to make sure they break for demo purposes. We will use different seeds for the three independent models. This will allow us to create a `comittee` of independent predictors. As we change hyper parameters, we will also change the `--name` of the model to make sure it saves seperatly."
   ]
  },
  {
   "cell_type": "code",
   "execution_count": null,
   "metadata": {
    "cell_id": "37e61d6c0e554372a743359ba7f4b567",
    "deepnote_cell_type": "code",
    "deepnote_to_be_reexecuted": false,
    "execution_millis": 389976,
    "execution_start": 1690389935772,
    "source_hash": null
   },
   "outputs": [],
   "source": [
    "#prepare a much smaller training example, and let us pick independent data sets\n",
    "from ase.io import read, write\n",
    "db = read('data/solvent_xtb.xyz', ':')\n",
    "write('data/solvent_mace_small1_train.xyz', db[:3]+db[3:53]) #\n",
    "write('data/solvent_mace_small2_train.xyz', db[:3]+db[53:103])\n",
    "write('data/solvent_mace_small3_train.xyz', db[:3]+db[103:153])\n",
    "\n",
    "#train the first model\n",
    "!python3 ./mace/scripts/run_train.py \\\n",
    "    --name=\"model_small1\" \\\n",
    "    --train_file=\"data/solvent_mace_small1_train.xyz\" \\\n",
    "    --valid_fraction=0.05 \\\n",
    "    --E0s=\"isolated\" \\\n",
    "    --energy_key=\"energy\" \\\n",
    "    --forces_key=\"forces\" \\\n",
    "    --model=\"MACE\" \\\n",
    "    --num_interactions=2 \\\n",
    "    --max_ell=2 \\\n",
    "    --hidden_irreps=\"16x0e\" \\\n",
    "    --num_cutoff_basis=5 \\\n",
    "    --correlation=2 \\\n",
    "    --r_max=3.0 \\\n",
    "    --batch_size=5 \\\n",
    "    --valid_batch_size=5 \\\n",
    "    --eval_interval=1 \\\n",
    "    --max_num_epochs=50 \\\n",
    "    --start_swa=30 \\\n",
    "    --swa_energy_weight=1000 \\\n",
    "    --ema \\\n",
    "    --ema_decay=0.99 \\\n",
    "    --amsgrad \\\n",
    "    --error_table=\"PerAtomRMSE\" \\\n",
    "    --default_dtype=\"float32\" \\\n",
    "    --swa \\\n",
    "    --device=cuda \\\n",
    "    --seed=345\n",
    "\n",
    "#train the second model\n",
    "!python3 ./mace/scripts/run_train.py \\\n",
    "    --name=\"model_small2\" \\\n",
    "    --train_file=\"data/solvent_mace_small2_train.xyz\" \\\n",
    "    --valid_fraction=0.05 \\\n",
    "    --E0s=\"isolated\" \\\n",
    "    --energy_key=\"energy\" \\\n",
    "    --forces_key=\"forces\" \\\n",
    "    --model=\"MACE\" \\\n",
    "    --num_interactions=2 \\\n",
    "    --max_ell=2 \\\n",
    "    --hidden_irreps=\"16x0e\" \\\n",
    "    --num_cutoff_basis=5 \\\n",
    "    --correlation=2 \\\n",
    "    --r_max=3.0 \\\n",
    "    --batch_size=5 \\\n",
    "    --valid_batch_size=5 \\\n",
    "    --eval_interval=1 \\\n",
    "    --max_num_epochs=50 \\\n",
    "    --start_swa=30 \\\n",
    "    --swa_energy_weight=1000 \\\n",
    "    --ema \\\n",
    "    --ema_decay=0.99 \\\n",
    "    --amsgrad \\\n",
    "    --error_table=\"PerAtomRMSE\" \\\n",
    "    --default_dtype=\"float32\" \\\n",
    "    --swa \\\n",
    "    --device=cuda \\\n",
    "    --seed=567\n",
    "\n",
    "#train the thirds model\n",
    "!python3 ./mace/scripts/run_train.py \\\n",
    "    --name=\"model_small3\" \\\n",
    "    --train_file=\"data/solvent_mace_small3_train.xyz\" \\\n",
    "    --valid_fraction=0.05 \\\n",
    "    --E0s=\"isolated\" \\\n",
    "    --energy_key=\"energy\" \\\n",
    "    --forces_key=\"forces\" \\\n",
    "    --model=\"MACE\" \\\n",
    "    --num_interactions=2 \\\n",
    "    --max_ell=2 \\\n",
    "    --hidden_irreps=\"16x0e\" \\\n",
    "    --num_cutoff_basis=5 \\\n",
    "    --correlation=2 \\\n",
    "    --r_max=3.0 \\\n",
    "    --batch_size=5 \\\n",
    "    --valid_batch_size=5 \\\n",
    "    --eval_interval=1 \\\n",
    "    --max_num_epochs=50 \\\n",
    "    --start_swa=30 \\\n",
    "    --swa_energy_weight=1000 \\\n",
    "    --ema \\\n",
    "    --ema_decay=0.99 \\\n",
    "    --amsgrad \\\n",
    "    --error_table=\"PerAtomRMSE\" \\\n",
    "    --default_dtype=\"float32\" \\\n",
    "    --swa \\\n",
    "    --device=cuda \\\n",
    "    --seed=731"
   ]
  },
  {
   "cell_type": "markdown",
   "metadata": {
    "cell_id": "ec2e91aa94044d14aeadea824b5fecbe",
    "deepnote_cell_type": "markdown"
   },
   "source": [
    "Now we can run dynamics with a commitee of models and look at the variance in the energy prediction. Because XTB is cheap enough we can compare that variance with the true error. Do they correlate?"
   ]
  },
  {
   "cell_type": "code",
   "execution_count": null,
   "metadata": {
    "cell_id": "763720f0e2ed4ea7a27db276507b4fa9",
    "deepnote_cell_type": "code",
    "deepnote_to_be_reexecuted": false,
    "execution_millis": 741598,
    "execution_start": 1690390325607,
    "source_hash": null
   },
   "outputs": [],
   "source": [
    "from aseMolec import extAtoms as ea\n",
    "from ase import units\n",
    "from ase.md.langevin import Langevin\n",
    "from ase.md.velocitydistribution import Stationary, ZeroRotation, MaxwellBoltzmannDistribution\n",
    "from ase.io import read, write\n",
    "\n",
    "import random\n",
    "import numpy as np\n",
    "import time\n",
    "import pylab as pl\n",
    "from IPython import display\n",
    "\n",
    "from xtb.ase.calculator import XTB\n",
    "from mace.calculators import MACECalculator\n",
    "\n",
    "model_paths = ['model_small1_swa.model','model_small2_swa.model', 'model_small3_swa.model']\n",
    "xtb_calc = XTB(method=\"GFN2-xTB\")\n",
    "mace_calc = MACECalculator(model_paths=model_paths, device='cpu', default_dtype=\"float32\")\n",
    "\n",
    "init_conf = ea.sel_by_info_val(read('data/solvent_molecs.xyz',':'), 'Nmols', 1)[0].copy()\n",
    "init_conf.set_calculator(mace_calc)\n",
    "\n",
    "#initialize the temperature\n",
    "random.seed(701)\n",
    "MaxwellBoltzmannDistribution(init_conf, temperature_K=500)\n",
    "Stationary(init_conf)\n",
    "ZeroRotation(init_conf)\n",
    "\n",
    "dyn = Langevin(init_conf, 1*units.fs, temperature_K=1200, friction=0.1)\n",
    "\n",
    "%matplotlib inline\n",
    "\n",
    "time_fs = []\n",
    "temperature = []\n",
    "energies_1 = []\n",
    "energies_2 = []\n",
    "energies_3 = []\n",
    "variances = []\n",
    "xtb_energies = []\n",
    "true_errors = []\n",
    "\n",
    "! rm -rfv committee_md.xyz\n",
    "fig, ax = pl.subplots(3, 1, figsize=(8,8), sharex='all', gridspec_kw={'hspace': 0, 'wspace': 0})\n",
    "\n",
    "\n",
    "def write_frame():\n",
    "        at = dyn.atoms.copy()\n",
    "        at.calc = xtb_calc\n",
    "        xtb_energy = at.get_potential_energy()\n",
    "\n",
    "        dyn.atoms.write('committee_md.xyz', append=True)\n",
    "        time_fs.append(dyn.get_time()/units.fs)\n",
    "        temperature.append(dyn.atoms.get_temperature())\n",
    "        energies_1.append(dyn.atoms.calc.results[\"energies\"][0]/len(dyn.atoms))\n",
    "        energies_2.append(dyn.atoms.calc.results[\"energies\"][1]/len(dyn.atoms))\n",
    "        energies_3.append(dyn.atoms.calc.results[\"energies\"][2]/len(dyn.atoms))\n",
    "        variances.append(dyn.atoms.calc.results[\"energy_var\"]/len(dyn.atoms))\n",
    "        xtb_energies.append(xtb_energy/len(dyn.atoms))\n",
    "        true_errors.append(np.var([dyn.atoms.calc.results[\"energy\"],xtb_energy])/len(dyn.atoms))\n",
    "\n",
    "        # subplot the variance of the energy as a function of the steps and the temperature as two subplots\n",
    "        ax[0].plot(np.array(time_fs), np.array(variances), color=\"y\")\n",
    "        ax[0].plot(np.array(time_fs), np.array(true_errors), color=\"black\")\n",
    "        ax[0].set_ylabel(r'$\\Delta$ E (eV$^2$/atom)')\n",
    "        ax[0].legend(['Estimated Error', 'True Error'], loc='lower left')\n",
    "\n",
    "        # plot the temperature of the system as subplots\n",
    "        ax[1].plot(np.array(time_fs), temperature, color=\"r\", label='Temperature')\n",
    "        ax[1].set_ylabel(\"T (K)\")\n",
    "\n",
    "        ax[2].plot(np.array(time_fs), energies_1, color=\"g\")\n",
    "        ax[2].plot(np.array(time_fs), energies_2, color=\"y\")\n",
    "        ax[2].plot(np.array(time_fs), energies_3, color=\"olive\")\n",
    "        ax[2].plot(np.array(time_fs), xtb_energies, color=\"black\")\n",
    "        ax[2].set_ylabel(\"E (eV/atom)\")\n",
    "        ax[2].set_xlabel('Time (fs)')\n",
    "        ax[2].legend(['E mace1', 'E mace2', 'E mace3', 'E xtb'], loc='lower left')\n",
    "\n",
    "        display.clear_output(wait=True)\n",
    "        display.display(fig)\n",
    "        time.sleep(0.01)\n",
    "\n",
    "dyn.attach(write_frame, interval=10)\n",
    "dyn.run(2000)\n",
    "print(\"MD finished!\")"
   ]
  },
  {
   "cell_type": "markdown",
   "metadata": {
    "cell_id": "742910790a0d4f1fa1d187c5e9d5de70",
    "deepnote_cell_type": "markdown"
   },
   "source": [
    "As expected, the dynamics has failed. In this case our reference PES is xtb which is cheap to evaluate so we can easily check the error on the fly. In practice we will be trainking MLIPs on expensive reference methods, where computing the true error on the fly is impractical. Notice when the dynamics `explodes`, the `true error` divergese, but crucially the `estimated error` also diverges."
   ]
  }
 ],
 "metadata": {
  "deepnote": {
   "is_reactive": false
  },
  "deepnote_execution_queue": [],
  "deepnote_notebook_id": "2a16e1e8a7ad42a8825007f5cff15d19",
  "kernelspec": {
   "display_name": "Python 3 (ipykernel)",
   "language": "python",
   "name": "python3"
  },
  "language_info": {
   "codemirror_mode": {
    "name": "ipython",
    "version": 3
   },
   "file_extension": ".py",
   "mimetype": "text/x-python",
   "name": "python",
   "nbconvert_exporter": "python",
   "pygments_lexer": "ipython3",
   "version": "3.11.5"
  }
 },
 "nbformat": 4,
 "nbformat_minor": 4
}
